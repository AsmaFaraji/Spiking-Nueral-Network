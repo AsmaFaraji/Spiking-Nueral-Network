{
 "cells": [
  {
   "cell_type": "code",
   "execution_count": 29,
   "metadata": {},
   "outputs": [],
   "source": [
    "import pandas as pd\n",
    "import numpy as np\n",
    "import cv2\n",
    "from skimage import color\n",
    "import matplotlib.pyplot as plt\n",
    "from skimage import io\n",
    "from skimage.transform import rescale, resize, downscale_local_mean\n",
    "import time, os\n",
    "import warnings\n",
    "from sklearn import svm\n",
    "warnings.filterwarnings('ignore')"
   ]
  },
  {
   "cell_type": "code",
   "execution_count": 30,
   "metadata": {},
   "outputs": [],
   "source": [
    "class GaborFilter:\n",
    "    def __init__(self,orientation, gabor_sizes):\n",
    "#         self.image = image\n",
    "        self.orientations = orientation\n",
    "        self.gabor_sizes = gabor_sizes\n",
    "    def filter_image(self,image):\n",
    "        filtered_images = []\n",
    "        for gabor_size in self.gabor_sizes:\n",
    "            for orientation in orientations:\n",
    "                g_kernel = cv2.getGaborKernel((gabor_size,gabor_size), 4.6, orientation, 11.0, 1.8, 0, ktype=cv2.CV_32F)\n",
    "#                 plt.imshow(resize(color.rgb2gray(cv2.filter2D(img, cv2.CV_8UC3, g_kernel)), (500,500)))\n",
    "#                 plt.imshow(g_kernel)\n",
    "#                 plt.show()\n",
    "#                 print(g_kernel)\n",
    "                filtered_images.append(resize(color.rgb2gray(cv2.filter2D(img, cv2.CV_8UC3, g_kernel)), (500,500)))\n",
    "\n",
    "        return np.stack(filtered_images ,axis=0)    "
   ]
  },
  {
   "cell_type": "code",
   "execution_count": 31,
   "metadata": {},
   "outputs": [],
   "source": [
    "class Pooling:\n",
    "    def __init__(self,filter_size,stride ,  pooling='max'):\n",
    "        self.filter_size = filter_size\n",
    "        self.stride = stride\n",
    "    def pool(self,image):\n",
    "        hight = int( 1 + (image.shape[1] - self.filter_size) / self.stride)\n",
    "        width = int( 1 + (image.shape[2] - self.filter_size) / self.stride)\n",
    "        channel = image.shape[0]\n",
    "        pooled_image = np.zeros((channel, hight,width ))\n",
    "        for h in range(hight):\n",
    "            for w in range(width):\n",
    "                for c in range(channel):\n",
    "                    vert_start = h * self.stride\n",
    "                    vert_end = vert_start + self.filter_size\n",
    "                    horiz_start = w * self.stride\n",
    "                    horiz_end = horiz_start + self.filter_size\n",
    "                    pooled_image[c,h,w] = np.max(image[c, vert_start:vert_end, horiz_start:horiz_end])\n",
    "        return pooled_image"
   ]
  },
  {
   "cell_type": "code",
   "execution_count": 44,
   "metadata": {},
   "outputs": [],
   "source": [
    "class SpikingLayer:\n",
    "    def __init__(self,input_size,channel, stride, n_filter, filter_size, k_winner ):\n",
    "        self.n_filter = n_filter\n",
    "        self.filter_size = filter_size\n",
    "        self.input_spikes = None\n",
    "        self.image = None\n",
    "        self.stride = stride\n",
    "        self.k_winner = k_winner\n",
    "        self.weights = {}\n",
    "        self.neuron_potential = {}\n",
    "        self.receptive_fields = {}\n",
    "        self.Thershold = 5\n",
    "        self.resting_potential = 0\n",
    "        self.channel = channel\n",
    "        for i, s in zip(range(n_filter),filter_size):\n",
    "            self.weights[i] = np.random.randn(4,s,s) + 5\n",
    "            hight = int( 1 + (input_size - s) / self.stride)\n",
    "            self.neuron_potential[i] = [0] * np.square(int( 1 + (input_size - s) / self.stride))\n",
    "#             print(int( 1 + (input_size - s) / self.stride))\n",
    "            self.receptive_fields[i] = [(h * self.stride, w * self.stride) for h in range(hight) for w in range(hight)  ]\n",
    "            print(len(self.receptive_fields[i]))\n",
    "            print(len(self.neuron_potential[i]))\n",
    "        self.winners = {}\n",
    "        for i in range(self.n_filter):\n",
    "            self.winners[i] = 0\n",
    "    \n",
    "       \n",
    "    def in_receptive_field(self,spiked_neuron, neuron, f):\n",
    "        if self.receptive_fields[f][neuron][0] <= spiked_neuron[1] < self.receptive_fields[f][neuron][0] + self.filter_size[f] and self.receptive_fields[f][neuron][1] <= spiked_neuron[2] < self.receptive_fields[f][neuron][1] + self.filter_size[f]:\n",
    "            return True, spiked_neuron[1] - self.receptive_fields[f][neuron][0] , spiked_neuron[2] - self.receptive_fields[f][neuron][1]\n",
    "        else: return False, -1, -1\n",
    "        \n",
    "       \n",
    "    def STDP(self,n_th, f, neuron, reward):\n",
    "        if reward == 0: reward = -1\n",
    "        print('reward : ', reward)    \n",
    "        rcp = self.receptive_fields[f][neuron]\n",
    "        for c in range(self.channel):\n",
    "            for i in range(self.filter_size[f]):\n",
    "                for j in range(self.filter_size[f]):\n",
    "                    idx = self.input_spikes.index((self.image[c,rcp[0] + i,rcp[1] + j], rcp[0] + i,rcp[1] + j,c) )\n",
    "                    if idx <= n_th:\n",
    "                        self.weights[f][c][i][j] += np.exp(-(n_th - idx)) * reward\n",
    "#                         print('weight change : ',(1 - self.weights[f][c][i][j]) * self.weights[f][c][i][j] / 10  )\n",
    "#                         print('weight : ',  self.weights[f][c][i][j])\n",
    "                    else: self.weights[f][c][i][j] -= np.exp(-(idx - n_th)) * reward\n",
    "                    \n",
    "         #input spike : intensity , row, column, map(gabor)\n",
    "    def forward(self, label):\n",
    "        spiked = False\n",
    "        print ('lable : ', label)\n",
    "        for n_th, spiked_neuron in enumerate(self.input_spikes):\n",
    "            if spiked == False:\n",
    "                for f in range(self.n_filter):\n",
    "                    if spiked == False:\n",
    "                        for neuron , potential in enumerate(self.neuron_potential[f]):\n",
    "        #                     print('n_th : ' ,n_th, 'f: ', f, 'neuron', neuron)\n",
    "                            in_rcp_fld , i, j = self.in_receptive_field(spiked_neuron, neuron, f)\n",
    "                            if in_rcp_fld:\n",
    "                                self.neuron_potential[f][neuron] += self.weights[f][spiked_neuron[3]][i][j] \n",
    "                                self.neuron_potential[f][neuron] = np.clip(self.neuron_potential[f][neuron],-3,6)\n",
    "                                if self.neuron_potential[f][neuron] > self.Thershold :\n",
    "                                    self.neuron_potential[f][neuron] = self.resting_potential\n",
    "                                    if self.winners[f] < self.k_winner:\n",
    "        #                                 print(f, ' ', neuron)\n",
    "                                        self.winners[f] += 1\n",
    "                                        print('model pred : ' ,f + 1)\n",
    "                                        self.STDP(n_th, f, neuron, label == (f + 1))\n",
    "                                        spiked = True\n",
    "                                        break\n",
    "        return f + 1\n",
    "\n",
    "    def foward_test(self):\n",
    "        for n_th, spiked_neuron in enumerate(self.input_spikes):\n",
    "            for f in range(self.n_filter):\n",
    "                for neuron , potential in enumerate(self.neuron_potential[f]):\n",
    "#                     print('n_th : ' ,n_th, 'f: ', f, 'neuron', neuron)\n",
    "                    in_rcp_fld , i, j = self.in_receptive_field(spiked_neuron, neuron, f)\n",
    "                    if in_rcp_fld:\n",
    "                        self.neuron_potential[f][neuron] += self.weights[f][spiked_neuron[3]][i][j] \n",
    "                        self.neuron_potential[f][neuron] = np.clip(self.neuron_potential[f][neuron],-3,6)\n",
    "                        if self.neuron_potential[f][neuron] > self.Thershold :\n",
    "                            self.neuron_potential[f][neuron] = self.resting_potential\n",
    "                            \n",
    "        feature_vector = [potential  for i in range(self.n_filter) for potential in self.neuron_potential[i]]   \n",
    "        \n",
    "        return feature_vector\n",
    "        \n",
    "    def intensity_to_latency(self,image):\n",
    "        intensities = []\n",
    "        self.image = image\n",
    "        for c in range(image.shape[0]):\n",
    "            for i in range(image.shape[1]):\n",
    "                for j in range(image.shape[2]):\n",
    "                    intensities.append((image[c,i,j], i , j, c))\n",
    "        \n",
    "        self.input_spikes = sorted(intensities, key=lambda val: val[0],reverse=True)\n",
    "        \n",
    "    def reset_neurons(self):\n",
    "        for f in range(self.n_filter):\n",
    "            self.neuron_potential[f] = [0] * len(self.neuron_potential[f])\n",
    "        for i in range(self.n_filter):\n",
    "\n",
    "            self.winners[i] = 0\n",
    "    "
   ]
  },
  {
   "cell_type": "code",
   "execution_count": 64,
   "metadata": {},
   "outputs": [
    {
     "name": "stdout",
     "output_type": "stream",
     "text": [
      "36\n",
      "36\n",
      "36\n",
      "36\n",
      "36\n",
      "36\n",
      "36\n",
      "36\n"
     ]
    }
   ],
   "source": [
    "\n",
    "img = io.imread('down_arrow.jpg')\n",
    "orientations = [0,np.pi / 2, np.pi / 4, 3 * np.pi / 4]\n",
    "# orientations = [ np.pi / 4]\n",
    "gabor_sizes = [20]\n",
    "filter_size = 15\n",
    "stride = 10\n",
    "gabor = GaborFilter(orientations, gabor_sizes)\n",
    "pooling = Pooling(filter_size, stride)\n",
    "sp = SpikingLayer(input_size = 49, channel = 4,stride = 5, n_filter = 4, filter_size = [20,20,20,20], k_winner=1)"
   ]
  },
  {
   "cell_type": "code",
   "execution_count": 65,
   "metadata": {},
   "outputs": [
    {
     "data": {
      "text/plain": [
       "(4, 49, 49)"
      ]
     },
     "execution_count": 65,
     "metadata": {},
     "output_type": "execute_result"
    }
   ],
   "source": [
    "img = gabor.filter_image(img)\n",
    "# plt.imshow(img)\n",
    "img = pooling.pool(img)\n",
    "img.shape"
   ]
  },
  {
   "cell_type": "code",
   "execution_count": 66,
   "metadata": {},
   "outputs": [
    {
     "data": {
      "text/plain": [
       "<matplotlib.image.AxesImage at 0x10b161b38>"
      ]
     },
     "execution_count": 66,
     "metadata": {},
     "output_type": "execute_result"
    },
    {
     "data": {
      "image/png": "[encoded data removed]",
      "text/plain": [
       "<Figure size 432x288 with 1 Axes>"
      ]
     },
     "metadata": {},
     "output_type": "display_data"
    }
   ],
   "source": [
    "\n",
    "plt.imshow(img[1])"
   ]
  },
  {
   "cell_type": "code",
   "execution_count": 67,
   "metadata": {},
   "outputs": [
    {
     "data": {
      "text/plain": [
       "<matplotlib.image.AxesImage at 0x1c25809d68>"
      ]
     },
     "execution_count": 67,
     "metadata": {},
     "output_type": "execute_result"
    },
    {
     "data": {
      "image/png": "[encoded data removed]",
      "text/plain": [
       "<Figure size 432x288 with 1 Axes>"
      ]
     },
     "metadata": {},
     "output_type": "display_data"
    }
   ],
   "source": [
    "# sp2 = SpikingLayer(input_size = 33, channel = 4,stride = 1, n_filter = 4, filter_size = [5,10,15,20], k_winner=1)\n",
    "# sp2.weights = sp.weights\n",
    "plt.imshow(sp.weights[2][1])"
   ]
  },
  {
   "cell_type": "code",
   "execution_count": 68,
   "metadata": {},
   "outputs": [],
   "source": [
    "# > 1 < 2 up 3 down 4\n",
    "mapp = np.array([[1,1,1,1,2],[3,3,3,2,4], [1,3,1,1,4], [4,3,3,4,1],[3,3,2,3,3]])\n",
    "pos = (4,1)\n",
    "food  = (3,3)"
   ]
  },
  {
   "cell_type": "code",
   "execution_count": 69,
   "metadata": {},
   "outputs": [],
   "source": [
    "def move_to(move):\n",
    "    \n",
    "    if move == 1:\n",
    "        return io.imread('right_arrow.jpg')\n",
    "    elif move == 2:\n",
    "        return io.imread('left_arrow.jpg')\n",
    "    elif move == 3:\n",
    "        return io.imread('up_arrow.jpg')\n",
    "    else:\n",
    "        return io.imread('down_arrow.jpg')\n",
    "def next_move_pos(pos,move):\n",
    "    if move == 1: return (pos[0] , pos[1] + 1)  \n",
    "    elif move == 2: return (pos[0] , pos[1] -1)\n",
    "    elif move == 3: return (pos[0] - 1, pos[1])\n",
    "    else : return (pos[0] + 1, pos[1])\n",
    "    "
   ]
  },
  {
   "cell_type": "code",
   "execution_count": 70,
   "metadata": {},
   "outputs": [
    {
     "name": "stdout",
     "output_type": "stream",
     "text": [
      "lable :  3\n",
      "model pred :  1\n",
      "reward :  -1\n",
      "move :  4\n",
      "lable :  4\n",
      "model pred :  3\n",
      "reward :  -1\n",
      "move :  4\n",
      "lable :  4\n",
      "model pred :  3\n",
      "reward :  -1\n",
      "move :  4\n",
      "lable :  4\n",
      "model pred :  1\n",
      "reward :  -1\n",
      "move :  4\n",
      "lable :  4\n",
      "model pred :  1\n",
      "reward :  -1\n",
      "move :  4\n"
     ]
    }
   ],
   "source": [
    "next_move = io.imread('up_arrow.jpg')\n",
    "move = 3\n",
    "for _ in range(0,5):\n",
    "    for i in range(0,6):\n",
    "        next_move = gabor.filter_image(next_move)\n",
    "        next_Move = pooling.pool(next_move)\n",
    "        sp.intensity_to_latency(next_move)\n",
    "        sp.reset_neurons()\n",
    "        move = sp.forward(move)\n",
    "        pos = next_move_pos(pos, move) \n",
    "        next_move = move_to(move) \n",
    "        print('move : ', move)\n",
    "        if pos[0] > 4 or pos[1] > 4 or pos[0] < 0 or pos[1] < 0: \n",
    "            pos  = (4,1)\n",
    "            break\n",
    "        print(pos)\n",
    "    \n",
    "    "
   ]
  },
  {
   "cell_type": "code",
   "execution_count": 267,
   "metadata": {},
   "outputs": [],
   "source": [
    "##test on train\n",
    "X = []\n",
    "y = []\n",
    "for filename in os.listdir('./train_cat_vs_dog'):\n",
    "    if filename.endswith(\".jpg\") and int(filename.split('.')[1]) <= 100:\n",
    "        label = filename.split('.')[0] == 'cat'\n",
    "        img = io.imread('./train_cat_vs_dog/' + filename)\n",
    "        img = gabor.filter_image(img)\n",
    "        img = pooling.pool(img)\n",
    "        sp.intensity_to_latency(img)\n",
    "        sp.reset_neurons()\n",
    "        X.append(sp.foward_test())\n",
    "        y.append(label)"
   ]
  },
  {
   "cell_type": "code",
   "execution_count": 268,
   "metadata": {},
   "outputs": [
    {
     "data": {
      "text/plain": [
       "SVC(C=1.0, cache_size=200, class_weight=None, coef0=0.0,\n",
       "  decision_function_shape='ovr', degree=3, gamma='auto', kernel='rbf',\n",
       "  max_iter=-1, probability=False, random_state=None, shrinking=True,\n",
       "  tol=0.001, verbose=False)"
      ]
     },
     "execution_count": 268,
     "metadata": {},
     "output_type": "execute_result"
    }
   ],
   "source": [
    "##train classifier\n",
    "clf = svm.SVC()\n",
    "clf.fit(X, y)  "
   ]
  },
  {
   "cell_type": "code",
   "execution_count": 205,
   "metadata": {},
   "outputs": [],
   "source": [
    "## test on testset\n",
    "X_test = []\n",
    "y_test = []\n",
    "for filename in os.listdir('./test'):\n",
    "    if filename.endswith(\".jpg\") and int(filename.split('.')[1]) <= 3050 :\n",
    "        label = filename.split('.')[0] == 'cat'\n",
    "        img = io.imread('./test/' + filename)\n",
    "        img = gabor.filter_image(img)\n",
    "        img = pooling.pool(img)\n",
    "        sp.intensity_to_latency(img)\n",
    "        sp.reset_neurons()\n",
    "        X_test.append(sp.foward_test())\n",
    "        y_test.append(label)"
   ]
  },
  {
   "cell_type": "code",
   "execution_count": 71,
   "metadata": {},
   "outputs": [
    {
     "ename": "NameError",
     "evalue": "name 'clf' is not defined",
     "output_type": "error",
     "traceback": [
      "\u001b[0;31m---------------------------------------------------------------------------\u001b[0m",
      "\u001b[0;31mNameError\u001b[0m                                 Traceback (most recent call last)",
      "\u001b[0;32m<ipython-input-71-0ef5e677e962>\u001b[0m in \u001b[0;36m<module>\u001b[0;34m()\u001b[0m\n\u001b[0;32m----> 1\u001b[0;31m \u001b[0mpred\u001b[0m \u001b[0;34m=\u001b[0m \u001b[0mclf\u001b[0m\u001b[0;34m.\u001b[0m\u001b[0mpredict\u001b[0m\u001b[0;34m(\u001b[0m\u001b[0mX\u001b[0m\u001b[0;34m)\u001b[0m\u001b[0;34m\u001b[0m\u001b[0m\n\u001b[0m",
      "\u001b[0;31mNameError\u001b[0m: name 'clf' is not defined"
     ]
    }
   ],
   "source": [
    "pred = clf.predict(X)"
   ]
  },
  {
   "cell_type": "code",
   "execution_count": 270,
   "metadata": {},
   "outputs": [
    {
     "data": {
      "text/plain": [
       "202"
      ]
     },
     "execution_count": 270,
     "metadata": {},
     "output_type": "execute_result"
    }
   ],
   "source": [
    "np.sum(pred == y)"
   ]
  },
  {
   "cell_type": "code",
   "execution_count": 208,
   "metadata": {},
   "outputs": [
    {
     "data": {
      "text/plain": [
       "array([False,  True,  True, False,  True,  True, False, False,  True,\n",
       "       False,  True,  True,  True,  True,  True,  True,  True, False,\n",
       "        True,  True,  True,  True,  True,  True, False, False,  True,\n",
       "        True, False, False, False,  True,  True,  True, False,  True,\n",
       "        True, False,  True,  True, False,  True,  True, False,  True,\n",
       "       False, False, False,  True,  True, False,  True,  True, False,\n",
       "        True,  True, False,  True, False, False,  True,  True,  True,\n",
       "        True, False,  True,  True, False,  True,  True,  True,  True,\n",
       "        True,  True,  True,  True, False,  True, False,  True, False,\n",
       "        True,  True, False,  True, False,  True,  True, False,  True,\n",
       "       False,  True,  True,  True,  True,  True, False,  True,  True,\n",
       "        True,  True, False, False, False, False, False, False, False,\n",
       "       False, False,  True, False, False, False, False, False, False,\n",
       "       False, False,  True,  True, False, False, False, False, False,\n",
       "       False, False, False, False, False, False, False, False, False,\n",
       "        True, False, False, False,  True, False,  True,  True, False,\n",
       "       False, False,  True, False, False, False,  True, False,  True,\n",
       "       False,  True, False, False, False, False, False, False, False,\n",
       "       False, False, False,  True, False, False, False, False, False,\n",
       "       False, False, False, False, False, False, False, False,  True,\n",
       "       False, False, False, False, False, False, False, False, False,\n",
       "       False, False, False,  True, False, False, False, False,  True,\n",
       "       False, False, False, False])"
      ]
     },
     "execution_count": 208,
     "metadata": {},
     "output_type": "execute_result"
    }
   ],
   "source": [
    "pred"
   ]
  },
  {
   "cell_type": "code",
   "execution_count": 209,
   "metadata": {},
   "outputs": [],
   "source": [
    "pred_test = clf.predict(X_test) "
   ]
  },
  {
   "cell_type": "code",
   "execution_count": 210,
   "metadata": {},
   "outputs": [
    {
     "data": {
      "text/plain": [
       "43"
      ]
     },
     "execution_count": 210,
     "metadata": {},
     "output_type": "execute_result"
    }
   ],
   "source": [
    "np.sum(pred_test == y_test)"
   ]
  },
  {
   "cell_type": "code",
   "execution_count": 211,
   "metadata": {},
   "outputs": [
    {
     "data": {
      "text/plain": [
       "array([False,  True, False, False,  True, False, False,  True, False,\n",
       "        True, False, False, False, False, False, False, False, False,\n",
       "       False,  True,  True, False,  True,  True,  True, False, False,\n",
       "        True, False,  True, False,  True, False, False, False, False,\n",
       "       False, False,  True, False, False, False, False,  True, False,\n",
       "       False, False, False, False, False, False,  True, False,  True,\n",
       "       False,  True, False, False, False, False, False, False, False,\n",
       "        True,  True,  True, False,  True,  True,  True, False,  True,\n",
       "       False, False, False,  True,  True, False, False,  True,  True,\n",
       "        True,  True,  True,  True, False,  True, False, False, False,\n",
       "       False, False, False, False, False,  True, False, False, False,\n",
       "        True])"
      ]
     },
     "execution_count": 211,
     "metadata": {},
     "output_type": "execute_result"
    }
   ],
   "source": [
    "pred_test"
   ]
  },
  {
   "cell_type": "code",
   "execution_count": 212,
   "metadata": {},
   "outputs": [
    {
     "data": {
      "text/plain": [
       "{0: [1.5119885730715967,\n",
       "  1.5164934140433137,\n",
       "  1.5181062441475448,\n",
       "  1.521478856172164,\n",
       "  1.5182862396820453,\n",
       "  1.5349378048101303,\n",
       "  1.5200093020821053,\n",
       "  1.515949376920988,\n",
       "  1.5001585251188339,\n",
       "  1.5276727857265113,\n",
       "  1.5245509031383382,\n",
       "  1.5255877435386196,\n",
       "  1.5073817464647732,\n",
       "  1.5288242794817748,\n",
       "  1.511918030199905,\n",
       "  1.5249953587781035,\n",
       "  1.5221951721724458,\n",
       "  1.5187452338571847,\n",
       "  1.5260553995139137,\n",
       "  1.5175127968448558,\n",
       "  1.5140023372644231,\n",
       "  1.5234715056604673,\n",
       "  1.5141698522702607,\n",
       "  1.5226985743742225,\n",
       "  1.5259306646700965,\n",
       "  1.5264505844814433,\n",
       "  1.518212109988506,\n",
       "  1.525694544938098,\n",
       "  1.5239892498801557,\n",
       "  1.526843575977,\n",
       "  1.5162876749086598,\n",
       "  1.5260219673766264,\n",
       "  1.5286210814305168,\n",
       "  1.5160074161814594,\n",
       "  1.5268710399485634,\n",
       "  1.5243805625460176],\n",
       " 1: [1.4718240553410464,\n",
       "  1.4812507474786705,\n",
       "  1.4817152509365357,\n",
       "  1.4757265452420973,\n",
       "  1.4789684838445385,\n",
       "  1.4854431106232762,\n",
       "  1.47482861643335,\n",
       "  1.4752939658226423,\n",
       "  1.4837068526294115,\n",
       "  1.4760558809601256,\n",
       "  1.4854274720428657,\n",
       "  1.4729310948010534,\n",
       "  1.4723742387838017,\n",
       "  1.478559612716318,\n",
       "  1.4751188167596554,\n",
       "  1.4832058318842571,\n",
       "  1.4763789882898632,\n",
       "  1.4645526571924732,\n",
       "  1.4815053690885192,\n",
       "  1.4800752253511136,\n",
       "  1.4681697331316002,\n",
       "  1.478642946581193,\n",
       "  1.461654253047647,\n",
       "  1.4728313864392402,\n",
       "  1.4727062792037904,\n",
       "  1.4734915300537021,\n",
       "  1.4787941007911785,\n",
       "  1.4847524479619663,\n",
       "  1.4865430397862487,\n",
       "  1.4752290653007036,\n",
       "  1.4784658867769003,\n",
       "  1.4811897137828363,\n",
       "  1.4822650048837283,\n",
       "  1.4850414111598005,\n",
       "  1.480421598272628,\n",
       "  1.4764500749596206],\n",
       " 2: [1.3552702282578686,\n",
       "  1.3652678324279424,\n",
       "  1.36312082250797,\n",
       "  1.3698416854764361,\n",
       "  1.3604664056490825,\n",
       "  1.3698878678982107,\n",
       "  1.3680600336011324,\n",
       "  1.3610841205887474,\n",
       "  1.3581891471172758,\n",
       "  1.359344583176249,\n",
       "  1.361159889885017,\n",
       "  1.359461966232439,\n",
       "  1.3643464528046783,\n",
       "  1.3604978360848157,\n",
       "  1.3635941986134388,\n",
       "  1.3699727659993757,\n",
       "  1.3618639663486314,\n",
       "  1.359001507282945,\n",
       "  1.3582357852454543,\n",
       "  1.3609343657440047,\n",
       "  1.372689440767721,\n",
       "  1.3686910415404976,\n",
       "  1.3601634509751213,\n",
       "  1.3566991865648077,\n",
       "  1.3670402171198504,\n",
       "  1.3673590269551592,\n",
       "  1.3620511856211215,\n",
       "  1.3553890408404592,\n",
       "  1.3610313036959258,\n",
       "  1.3499672880753752,\n",
       "  1.3670959196350505,\n",
       "  1.3738371642796543,\n",
       "  1.3527401025630414,\n",
       "  1.36401035291132,\n",
       "  1.3705649513662241,\n",
       "  1.3713415581061346]}"
      ]
     },
     "execution_count": 212,
     "metadata": {},
     "output_type": "execute_result"
    }
   ],
   "source": [
    "sp.neuron_potential"
   ]
  },
  {
   "cell_type": "code",
   "execution_count": 191,
   "metadata": {},
   "outputs": [
    {
     "data": {
      "text/plain": [
       "<matplotlib.image.AxesImage at 0x1c25c81630>"
      ]
     },
     "execution_count": 191,
     "metadata": {},
     "output_type": "execute_result"
    },
    {
     "data": {
      "image/png": "[encoded data removed]",
      "text/plain": [
       "<Figure size 432x288 with 1 Axes>"
      ]
     },
     "metadata": {},
     "output_type": "display_data"
    }
   ],
   "source": [
    "plt.imshow(sp.weights[2][1])"
   ]
  },
  {
   "cell_type": "code",
   "execution_count": 193,
   "metadata": {},
   "outputs": [
    {
     "data": {
      "text/plain": [
       "[1.4286982169681537,\n",
       " 1.438565316305572,\n",
       " 1.4380680844313436,\n",
       " 1.4300253602561466,\n",
       " 1.427883274046152,\n",
       " 1.4274172565303647,\n",
       " 1.4374316260861302,\n",
       " 1.4359959773278224,\n",
       " 1.4330222108391089,\n",
       " 1.424968133849666,\n",
       " 1.4328519986007349,\n",
       " 1.4183943560924683,\n",
       " 1.4318138213875047,\n",
       " 1.4322823427297855,\n",
       " 1.425319591426121,\n",
       " 1.4290691345780548,\n",
       " 1.4281398820748958,\n",
       " 1.4174594315639153,\n",
       " 1.4227656650287646,\n",
       " 1.4310052165774207,\n",
       " 1.4301056347403358,\n",
       " 1.4349044918504854,\n",
       " 1.43526345963755,\n",
       " 1.4233311133032571,\n",
       " 1.4292887280157176,\n",
       " 1.420312692252875,\n",
       " 1.4254857477844425,\n",
       " 1.4372247760165744,\n",
       " 1.431120565028627,\n",
       " 1.4194676151164902,\n",
       " 1.4237993981105135,\n",
       " 1.4206753896277495,\n",
       " 1.4260480019177053,\n",
       " 1.4146586145733442,\n",
       " 1.4278793560277065,\n",
       " 1.442760516652535,\n",
       " 1.4550183532947296,\n",
       " 1.4560535992599555,\n",
       " 1.449717084450458,\n",
       " 1.452897837782324,\n",
       " 1.4631568687947747,\n",
       " 1.4553779691131066,\n",
       " 1.4546520832901964,\n",
       " 1.4612884617170312,\n",
       " 1.4572895530916028,\n",
       " 1.455116315315677,\n",
       " 1.4548233917333127,\n",
       " 1.4626601619303157,\n",
       " 1.461048783461876,\n",
       " 1.4537206089330457,\n",
       " 1.43923718233878,\n",
       " 1.4494622564659045,\n",
       " 1.4517095148386674,\n",
       " 1.4452824858914246,\n",
       " 1.4556668935299342,\n",
       " 1.4537176001744774,\n",
       " 1.4484279860365363,\n",
       " 1.4485244854978758,\n",
       " 1.459068409914623,\n",
       " 1.4555864351380585,\n",
       " 1.4583257436142325,\n",
       " 1.4664175000890438,\n",
       " 1.4532373634730928,\n",
       " 1.460056078293847,\n",
       " 1.4490287548996659,\n",
       " 1.4622841087609606,\n",
       " 1.4491510703748924,\n",
       " 1.4502504644136918,\n",
       " 1.4572148781844092,\n",
       " 1.459891182725189,\n",
       " 1.4620381766300719,\n",
       " 1.4528883127046834,\n",
       " 1.4692492699955386,\n",
       " 1.4565160753245066,\n",
       " 1.4600269294042025,\n",
       " 1.4658390510989938,\n",
       " 1.4519874719142822,\n",
       " 1.4621311036644484,\n",
       " 1.4636240783767052,\n",
       " 1.473711891711028,\n",
       " 1.46695718396912,\n",
       " 1.4652737015505783,\n",
       " 1.4680940860813505,\n",
       " 1.4614461511611299,\n",
       " 1.4631348577770635,\n",
       " 1.4655933209022232,\n",
       " 1.4594502717852622,\n",
       " 1.473101946125857,\n",
       " 1.4637914547137796,\n",
       " 1.4641838072854112,\n",
       " 1.4576097700874358,\n",
       " 1.4496354839100989,\n",
       " 1.4703464699407287,\n",
       " 1.4627171775969936,\n",
       " 1.4667772036893667,\n",
       " 1.4648424498653836,\n",
       " 1.4610117108638403,\n",
       " 1.4533638144019225,\n",
       " 1.4666832489238117,\n",
       " 1.4724169552916004,\n",
       " 1.4689137455953014,\n",
       " 1.4654353340119657,\n",
       " 1.459281233592499,\n",
       " 1.466207312757894,\n",
       " 1.4630014338844821,\n",
       " 1.4785530090492978,\n",
       " 1.4663770811371022,\n",
       " 1.4638857434165349]"
      ]
     },
     "execution_count": 193,
     "metadata": {},
     "output_type": "execute_result"
    }
   ],
   "source": [
    "X[-1]"
   ]
  },
  {
   "cell_type": "code",
   "execution_count": 194,
   "metadata": {},
   "outputs": [
    {
     "data": {
      "text/plain": [
       "[1.4309395908922218,\n",
       " 1.4390929393497534,\n",
       " 1.4250783613016265,\n",
       " 1.4393595988786512,\n",
       " 1.430501878892068,\n",
       " 1.425399972540312,\n",
       " 1.432505438026459,\n",
       " 1.4253804977576567,\n",
       " 1.4236259608119772,\n",
       " 1.442947387022916,\n",
       " 1.4296377490055372,\n",
       " 1.4343369068257126,\n",
       " 1.4194376598295033,\n",
       " 1.44112845085673,\n",
       " 1.4239438705504992,\n",
       " 1.434506976065034,\n",
       " 1.4260938313447231,\n",
       " 1.439761462752848,\n",
       " 1.4311121288874278,\n",
       " 1.4222698955777258,\n",
       " 1.4332180457263322,\n",
       " 1.4329728268274877,\n",
       " 1.4311108527153142,\n",
       " 1.4267846710853112,\n",
       " 1.4293419371087146,\n",
       " 1.4257540496633025,\n",
       " 1.4315931753114612,\n",
       " 1.4319534220823191,\n",
       " 1.4219647239407152,\n",
       " 1.419094242180589,\n",
       " 1.432232992220997,\n",
       " 1.4373388131307727,\n",
       " 1.425632497006437,\n",
       " 1.4291733210369613,\n",
       " 1.4287053266132503,\n",
       " 1.429488716747378,\n",
       " 1.4627189034634012,\n",
       " 1.452178095126086,\n",
       " 1.4503559958108956,\n",
       " 1.4524509435535329,\n",
       " 1.4554982474469773,\n",
       " 1.4472741163749798,\n",
       " 1.4431105466730993,\n",
       " 1.46018948613627,\n",
       " 1.4591045642014528,\n",
       " 1.446212623385552,\n",
       " 1.4497908807863955,\n",
       " 1.4536538736143119,\n",
       " 1.4517256149553344,\n",
       " 1.4511728496681242,\n",
       " 1.4595683550744492,\n",
       " 1.453532060472211,\n",
       " 1.4480029504169276,\n",
       " 1.446435432563726,\n",
       " 1.4546375447762219,\n",
       " 1.4365324366190888,\n",
       " 1.4522576024907787,\n",
       " 1.4492687212673552,\n",
       " 1.461822228061475,\n",
       " 1.458088065555754,\n",
       " 1.4484572618729472,\n",
       " 1.451304577500722,\n",
       " 1.4459387755396136,\n",
       " 1.4576124781988296,\n",
       " 1.4641396692462532,\n",
       " 1.4590837081533796,\n",
       " 1.4504200505056666,\n",
       " 1.460229350645333,\n",
       " 1.4628960284842094,\n",
       " 1.4592825668425728,\n",
       " 1.4625634208247134,\n",
       " 1.4673963266327537,\n",
       " 1.4613600859478977,\n",
       " 1.4543493796715496,\n",
       " 1.4648563634164158,\n",
       " 1.4635903251715305,\n",
       " 1.4580797301249686,\n",
       " 1.4664901146757179,\n",
       " 1.4608745302478556,\n",
       " 1.4608719537145292,\n",
       " 1.4752079518253034,\n",
       " 1.4661430217983313,\n",
       " 1.4674398365862396,\n",
       " 1.4603113695047654,\n",
       " 1.4603927761624067,\n",
       " 1.46365607757911,\n",
       " 1.4703022825191496,\n",
       " 1.4688779699749397,\n",
       " 1.473366623191491,\n",
       " 1.4573974415331368,\n",
       " 1.46389169867236,\n",
       " 1.449573796063954,\n",
       " 1.4742996252782739,\n",
       " 1.4598279863055839,\n",
       " 1.4651297844329452,\n",
       " 1.4775919722977215,\n",
       " 1.463157533013606,\n",
       " 1.4717226475092784,\n",
       " 1.463112748978028,\n",
       " 1.4787001061339544,\n",
       " 1.461529326862984,\n",
       " 1.4668552801692654,\n",
       " 1.4644722490920579,\n",
       " 1.4627775821201727,\n",
       " 1.4663019079514825,\n",
       " 1.463483850848498,\n",
       " 1.467803514059691,\n",
       " 1.471169609147865]"
      ]
     },
     "execution_count": 194,
     "metadata": {},
     "output_type": "execute_result"
    }
   ],
   "source": [
    "X[0]"
   ]
  },
  {
   "cell_type": "code",
   "execution_count": null,
   "metadata": {},
   "outputs": [],
   "source": []
  }
 ],
 "metadata": {
  "kernelspec": {
   "display_name": "Python 3",
   "language": "python",
   "name": "python3"
  },
  "language_info": {
   "codemirror_mode": {
    "name": "ipython",
    "version": 3
   },
   "file_extension": ".py",
   "mimetype": "text/x-python",
   "name": "python",
   "nbconvert_exporter": "python",
   "pygments_lexer": "ipython3",
   "version": "3.7.4"
  }
 },
 "nbformat": 4,
 "nbformat_minor": 2
}
